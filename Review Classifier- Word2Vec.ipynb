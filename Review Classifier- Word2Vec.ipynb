{
 "cells": [
  {
   "cell_type": "code",
   "execution_count": 1,
   "metadata": {
    "collapsed": true
   },
   "outputs": [],
   "source": [
    "import numpy as np\n",
    "import pandas as pd"
   ]
  },
  {
   "cell_type": "code",
   "execution_count": 2,
   "metadata": {
    "collapsed": true
   },
   "outputs": [],
   "source": [
    "labeledData = pd.read_csv(\"labeledTrainData.tsv\", header = 0, delimiter='\\t', quoting= 3)\n",
    "unlabeledData = pd.read_csv(\"unlabeledTrainData.tsv\", header = 0, delimiter='\\t', quoting = 3)\n",
    "testData =  pd.read_csv(\"testData.tsv\", header = 0, delimiter='\\t', quoting = 3)"
   ]
  },
  {
   "cell_type": "code",
   "execution_count": 3,
   "metadata": {},
   "outputs": [
    {
     "data": {
      "text/plain": [
       "((25000, 3), (50000, 2), (25000, 2))"
      ]
     },
     "execution_count": 3,
     "metadata": {},
     "output_type": "execute_result"
    }
   ],
   "source": [
    "labeledData.shape, unlabeledData.shape, testData.shape"
   ]
  },
  {
   "cell_type": "code",
   "execution_count": 4,
   "metadata": {
    "collapsed": true
   },
   "outputs": [],
   "source": [
    "# transform raw review\n",
    "from bs4 import BeautifulSoup as bs\n",
    "import re\n",
    "from nltk.corpus import stopwords"
   ]
  },
  {
   "cell_type": "code",
   "execution_count": 5,
   "metadata": {
    "collapsed": true
   },
   "outputs": [],
   "source": [
    "# unlike bag of words, Word2Vec needs a list of words so we return the same\n",
    "# instead of returning a string as done previously.\n",
    "def transformSentence(rawReview, remove_stopwords = False):\n",
    "    #remove punctuation marks\n",
    "    noHTML = bs(rawReview, \"lxml\").get_text()\n",
    "    \n",
    "    #remove punctuation marks\n",
    "    letters_only = re.sub(\"[^a-zA-Z0-9]\", \" \", noHTML)\n",
    "    \n",
    "    #convert to lower case and split\n",
    "    words = letters_only.lower().split()\n",
    "    \n",
    "    #optional removing stopwords\n",
    "    if remove_stopwords:\n",
    "        sw = set(stopwords.words(\"english\"))\n",
    "        words = [w for w in words if w not in sw]\n",
    "    \n",
    "    #return list of words in the review\n",
    "    return words"
   ]
  },
  {
   "cell_type": "code",
   "execution_count": 13,
   "metadata": {},
   "outputs": [
    {
     "data": {
      "text/plain": [
       "['watching',\n",
       " 'time',\n",
       " 'chasers',\n",
       " 'it',\n",
       " 'obvious',\n",
       " 'that',\n",
       " 'it',\n",
       " 'was',\n",
       " 'made',\n",
       " 'by',\n",
       " 'a',\n",
       " 'bunch',\n",
       " 'of',\n",
       " 'friends',\n",
       " 'maybe',\n",
       " 'they',\n",
       " 'were',\n",
       " 'sitting',\n",
       " 'around',\n",
       " 'one',\n",
       " 'day',\n",
       " 'in',\n",
       " 'film',\n",
       " 'school',\n",
       " 'and',\n",
       " 'said',\n",
       " 'hey',\n",
       " 'let',\n",
       " 's',\n",
       " 'pool',\n",
       " 'our',\n",
       " 'money',\n",
       " 'together',\n",
       " 'and',\n",
       " 'make',\n",
       " 'a',\n",
       " 'really',\n",
       " 'bad',\n",
       " 'movie',\n",
       " 'or',\n",
       " 'something',\n",
       " 'like',\n",
       " 'that',\n",
       " 'what',\n",
       " 'ever',\n",
       " 'they',\n",
       " 'said',\n",
       " 'they',\n",
       " 'still',\n",
       " 'ended',\n",
       " 'up',\n",
       " 'making',\n",
       " 'a',\n",
       " 'really',\n",
       " 'bad',\n",
       " 'movie',\n",
       " 'dull',\n",
       " 'story',\n",
       " 'bad',\n",
       " 'script',\n",
       " 'lame',\n",
       " 'acting',\n",
       " 'poor',\n",
       " 'cinematography',\n",
       " 'bottom',\n",
       " 'of',\n",
       " 'the',\n",
       " 'barrel',\n",
       " 'stock',\n",
       " 'music',\n",
       " 'etc',\n",
       " 'all',\n",
       " 'corners',\n",
       " 'were',\n",
       " 'cut',\n",
       " 'except',\n",
       " 'the',\n",
       " 'one',\n",
       " 'that',\n",
       " 'would',\n",
       " 'have',\n",
       " 'prevented',\n",
       " 'this',\n",
       " 'film',\n",
       " 's',\n",
       " 'release',\n",
       " 'life',\n",
       " 's',\n",
       " 'like',\n",
       " 'that']"
      ]
     },
     "execution_count": 13,
     "metadata": {},
     "output_type": "execute_result"
    }
   ],
   "source": [
    "clean_review = transformSentence(unlabeledData.review[0])\n",
    "# clean_review"
   ]
  },
  {
   "cell_type": "code",
   "execution_count": 21,
   "metadata": {},
   "outputs": [
    {
     "data": {
      "text/plain": [
       "'\"Watching Time Chasers, it obvious that it was made by a bunch of friends. Maybe they were sitting around one day in film school and said, \\\\\"Hey, let\\'s pool our money together and make a really bad movie!\\\\\" Or something like that. What ever they said, they still ended up making a really bad movie--dull story, bad script, lame acting, poor cinematography, bottom of the barrel stock music, etc. All corners were cut, except the one that would have prevented this film\\'s release. Life\\'s like that.\"'"
      ]
     },
     "execution_count": 21,
     "metadata": {},
     "output_type": "execute_result"
    }
   ],
   "source": [
    "unlabeledData.review[0]"
   ]
  },
  {
   "cell_type": "code",
   "execution_count": 8,
   "metadata": {
    "collapsed": true
   },
   "outputs": [],
   "source": [
    "import nltk.data\n",
    "\n",
    "tokenizer = nltk.data.load('tokenizers/punkt/english.pickle')"
   ]
  },
  {
   "cell_type": "code",
   "execution_count": 20,
   "metadata": {},
   "outputs": [
    {
     "data": {
      "text/plain": [
       "['\"Watching Time Chasers, it obvious that it was made by a bunch of friends.',\n",
       " 'Maybe they were sitting around one day in film school and said, \\\\\"Hey, let\\'s pool our money together and make a really bad movie!\\\\\" Or something like that.',\n",
       " 'What ever they said, they still ended up making a really bad movie--dull story, bad script, lame acting, poor cinematography, bottom of the barrel stock music, etc.',\n",
       " \"All corners were cut, except the one that would have prevented this film's release.\",\n",
       " 'Life\\'s like that.\"']"
      ]
     },
     "execution_count": 20,
     "metadata": {},
     "output_type": "execute_result"
    }
   ],
   "source": [
    "raw_sentence=  tokenizer.tokenize(unlabeledData.review[0].strip())\n",
    "raw_sentence"
   ]
  },
  {
   "cell_type": "code",
   "execution_count": 16,
   "metadata": {
    "collapsed": true
   },
   "outputs": [],
   "source": [
    "def transformReview(rawReview, tokenizer, remove_stopwords = False):\n",
    "    \n",
    "    #convert paragraph into sentences\n",
    "    raw_sentence = tokenizer.tokenize(rawReview.strip())\n",
    "    \n",
    "    sentences = []\n",
    "    \n",
    "    #for each sentence, convert it into list of words\n",
    "    for sentence in raw_sentence:\n",
    "        if(len(sentence) > 0):\n",
    "            sentences.append(transformSentence(sentence, remove_stopwords))\n",
    "    \n",
    "    #return list of sentences each broken into words i.e. a list of lists\n",
    "    return sentences"
   ]
  },
  {
   "cell_type": "code",
   "execution_count": 38,
   "metadata": {},
   "outputs": [
    {
     "name": "stdout",
     "output_type": "stream",
     "text": [
      "5\n",
      "14\n"
     ]
    },
    {
     "data": {
      "text/plain": [
       "[['watching',\n",
       "  'time',\n",
       "  'chasers',\n",
       "  'it',\n",
       "  'obvious',\n",
       "  'that',\n",
       "  'it',\n",
       "  'was',\n",
       "  'made',\n",
       "  'by',\n",
       "  'a',\n",
       "  'bunch',\n",
       "  'of',\n",
       "  'friends'],\n",
       " ['maybe',\n",
       "  'they',\n",
       "  'were',\n",
       "  'sitting',\n",
       "  'around',\n",
       "  'one',\n",
       "  'day',\n",
       "  'in',\n",
       "  'film',\n",
       "  'school',\n",
       "  'and',\n",
       "  'said',\n",
       "  'hey',\n",
       "  'let',\n",
       "  's',\n",
       "  'pool',\n",
       "  'our',\n",
       "  'money',\n",
       "  'together',\n",
       "  'and',\n",
       "  'make',\n",
       "  'a',\n",
       "  'really',\n",
       "  'bad',\n",
       "  'movie',\n",
       "  'or',\n",
       "  'something',\n",
       "  'like',\n",
       "  'that'],\n",
       " ['what',\n",
       "  'ever',\n",
       "  'they',\n",
       "  'said',\n",
       "  'they',\n",
       "  'still',\n",
       "  'ended',\n",
       "  'up',\n",
       "  'making',\n",
       "  'a',\n",
       "  'really',\n",
       "  'bad',\n",
       "  'movie',\n",
       "  'dull',\n",
       "  'story',\n",
       "  'bad',\n",
       "  'script',\n",
       "  'lame',\n",
       "  'acting',\n",
       "  'poor',\n",
       "  'cinematography',\n",
       "  'bottom',\n",
       "  'of',\n",
       "  'the',\n",
       "  'barrel',\n",
       "  'stock',\n",
       "  'music',\n",
       "  'etc'],\n",
       " ['all',\n",
       "  'corners',\n",
       "  'were',\n",
       "  'cut',\n",
       "  'except',\n",
       "  'the',\n",
       "  'one',\n",
       "  'that',\n",
       "  'would',\n",
       "  'have',\n",
       "  'prevented',\n",
       "  'this',\n",
       "  'film',\n",
       "  's',\n",
       "  'release'],\n",
       " ['life', 's', 'like', 'that']]"
      ]
     },
     "execution_count": 38,
     "metadata": {},
     "output_type": "execute_result"
    }
   ],
   "source": [
    "s = transformReview(unlabeledData.review[0], tokenizer)\n",
    "print(len(s))\n",
    "print(len(s[0]))\n",
    "s"
   ]
  },
  {
   "cell_type": "code",
   "execution_count": 30,
   "metadata": {},
   "outputs": [
    {
     "name": "stderr",
     "output_type": "stream",
     "text": [
      "/home/shreya/anaconda3/lib/python3.6/site-packages/bs4/__init__.py:219: UserWarning: \"b'.'\" looks like a filename, not markup. You should probably open this file and pass the filehandle into Beautiful Soup.\n",
      "  ' Beautiful Soup.' % markup)\n",
      "/home/shreya/anaconda3/lib/python3.6/site-packages/bs4/__init__.py:282: UserWarning: \"http://www.archive.org/details/LovefromaStranger\"\" looks like a URL. Beautiful Soup is not an HTTP client. You should probably use an HTTP client like requests to get the document behind the URL, and feed that document to Beautiful Soup.\n",
      "  ' that document to Beautiful Soup.' % decoded_markup\n",
      "/home/shreya/anaconda3/lib/python3.6/site-packages/bs4/__init__.py:282: UserWarning: \"http://www.loosechangeguide.com/LooseChangeGuide.html\"\" looks like a URL. Beautiful Soup is not an HTTP client. You should probably use an HTTP client like requests to get the document behind the URL, and feed that document to Beautiful Soup.\n",
      "  ' that document to Beautiful Soup.' % decoded_markup\n",
      "/home/shreya/anaconda3/lib/python3.6/site-packages/bs4/__init__.py:282: UserWarning: \"http://www.msnbc.msn.com/id/4972055/site/newsweek/\"\" looks like a URL. Beautiful Soup is not an HTTP client. You should probably use an HTTP client like requests to get the document behind the URL, and feed that document to Beautiful Soup.\n",
      "  ' that document to Beautiful Soup.' % decoded_markup\n",
      "/home/shreya/anaconda3/lib/python3.6/site-packages/bs4/__init__.py:219: UserWarning: \"b'..'\" looks like a filename, not markup. You should probably open this file and pass the filehandle into Beautiful Soup.\n",
      "  ' Beautiful Soup.' % markup)\n",
      "/home/shreya/anaconda3/lib/python3.6/site-packages/bs4/__init__.py:282: UserWarning: \"http://www.youtube.com/watch?v=a0KSqelmgN8\"\" looks like a URL. Beautiful Soup is not an HTTP client. You should probably use an HTTP client like requests to get the document behind the URL, and feed that document to Beautiful Soup.\n",
      "  ' that document to Beautiful Soup.' % decoded_markup\n",
      "/home/shreya/anaconda3/lib/python3.6/site-packages/bs4/__init__.py:282: UserWarning: \"http://jake-weird.blogspot.com/2007/08/beneath.html\"\" looks like a URL. Beautiful Soup is not an HTTP client. You should probably use an HTTP client like requests to get the document behind the URL, and feed that document to Beautiful Soup.\n",
      "  ' that document to Beautiful Soup.' % decoded_markup\n",
      "/home/shreya/anaconda3/lib/python3.6/site-packages/bs4/__init__.py:282: UserWarning: \"http://www.happierabroad.com\"\" looks like a URL. Beautiful Soup is not an HTTP client. You should probably use an HTTP client like requests to get the document behind the URL, and feed that document to Beautiful Soup.\n",
      "  ' that document to Beautiful Soup.' % decoded_markup\n"
     ]
    }
   ],
   "source": [
    "# form a 3D matrix of all sentences from all reviews\n",
    "sentences = []\n",
    "\n",
    "for review in unlabeledData.review:\n",
    "    sentences += transformReview(review, tokenizer)\n",
    "\n",
    "for review in labeledData.review:\n",
    "    sentences += transformReview(review, tokenizer)"
   ]
  },
  {
   "cell_type": "code",
   "execution_count": 34,
   "metadata": {},
   "outputs": [
    {
     "data": {
      "text/plain": [
       "14"
      ]
     },
     "execution_count": 34,
     "metadata": {},
     "output_type": "execute_result"
    }
   ],
   "source": [
    "len(sentences[0])"
   ]
  },
  {
   "cell_type": "code",
   "execution_count": 37,
   "metadata": {},
   "outputs": [
    {
     "data": {
      "text/plain": [
       "['watching',\n",
       " 'time',\n",
       " 'chasers',\n",
       " 'it',\n",
       " 'obvious',\n",
       " 'that',\n",
       " 'it',\n",
       " 'was',\n",
       " 'made',\n",
       " 'by',\n",
       " 'a',\n",
       " 'bunch',\n",
       " 'of',\n",
       " 'friends']"
      ]
     },
     "execution_count": 37,
     "metadata": {},
     "output_type": "execute_result"
    }
   ],
   "source": [
    "sentences[0]"
   ]
  },
  {
   "cell_type": "code",
   "execution_count": null,
   "metadata": {
    "collapsed": true
   },
   "outputs": [],
   "source": []
  }
 ],
 "metadata": {
  "kernelspec": {
   "display_name": "Python 3",
   "language": "python",
   "name": "python3"
  },
  "language_info": {
   "codemirror_mode": {
    "name": "ipython",
    "version": 3
   },
   "file_extension": ".py",
   "mimetype": "text/x-python",
   "name": "python",
   "nbconvert_exporter": "python",
   "pygments_lexer": "ipython3",
   "version": "3.6.3"
  }
 },
 "nbformat": 4,
 "nbformat_minor": 2
}
